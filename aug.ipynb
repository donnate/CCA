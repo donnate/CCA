{
 "cells": [
  {
   "cell_type": "code",
   "execution_count": null,
   "metadata": {},
   "outputs": [],
   "source": [
    "import torch as th\n",
    "import numpy as np\n",
    "import dgl\n",
    "\n",
    "def random_aug(graph, x, feat_drop_rate, edge_mask_rate):\n",
    "    n_node = graph.number_of_nodes()\n",
    "\n",
    "    edge_mask = mask_edge(graph, edge_mask_rate)\n",
    "    feat = drop_feature(x, feat_drop_rate)\n",
    "\n",
    "    ng = dgl.graph([])\n",
    "    ng.add_nodes(n_node)\n",
    "    src = graph.edges()[0]\n",
    "    dst = graph.edges()[1]\n",
    "\n",
    "    nsrc = src[edge_mask]\n",
    "    ndst = dst[edge_mask]\n",
    "    ng.add_edges(nsrc, ndst)\n",
    "\n",
    "    return ng, feat\n",
    "\n",
    "def drop_feature(x, drop_prob):\n",
    "    drop_mask = th.empty(\n",
    "        (x.size(1),),\n",
    "        dtype=th.float32,\n",
    "        device=x.device).uniform_(0, 1) < drop_prob\n",
    "    x = x.clone()\n",
    "    x[:, drop_mask] = 0\n",
    "\n",
    "    return x\n",
    "\n",
    "def mask_edge(graph, mask_prob):\n",
    "    E = graph.number_of_edges()\n",
    "\n",
    "    mask_rates = th.FloatTensor(np.ones(E) * mask_prob)\n",
    "    masks = th.bernoulli(1 - mask_rates)\n",
    "    mask_idx = masks.nonzero().squeeze(1)\n",
    "    return mask_idx"
   ]
  }
 ],
 "metadata": {
  "kernelspec": {
   "display_name": "Python 3",
   "language": "python",
   "name": "python3"
  },
  "language_info": {
   "codemirror_mode": {
    "name": "ipython",
    "version": 3
   },
   "file_extension": ".py",
   "mimetype": "text/x-python",
   "name": "python",
   "nbconvert_exporter": "python",
   "pygments_lexer": "ipython3",
   "version": "3.8.5"
  }
 },
 "nbformat": 4,
 "nbformat_minor": 4
}

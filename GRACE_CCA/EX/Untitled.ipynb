{
 "cells": [
  {
   "cell_type": "code",
   "execution_count": 235,
   "id": "4b90e8f5",
   "metadata": {},
   "outputs": [],
   "source": [
    "import torch\n",
    "import numpy as np\n",
    "import torch.nn.functional as F"
   ]
  },
  {
   "cell_type": "code",
   "execution_count": 276,
   "id": "93c5cb26",
   "metadata": {},
   "outputs": [],
   "source": [
    "z1 = torch.randn(6,4)\n",
    "z2 = torch.randn(6,4)\n",
    "class_idx =torch.Tensor([[False, False, False, False, True, True],[False, False, True, True, False, False],[True, True, False, False, False, False]]).bool()\n",
    "#            ,torch.Tensor([False, False, True, True, False, False])\n",
    "#            ,torch.BoolTensor([True, True, False, False, False, False])]\n",
    "y = torch.Tensor([2,2,1,1,0,0])"
   ]
  },
  {
   "cell_type": "code",
   "execution_count": 288,
   "id": "551f2d20",
   "metadata": {},
   "outputs": [
    {
     "data": {
      "text/plain": [
       "tensor([[ True,  True, False, False, False, False],\n",
       "        [ True,  True, False, False, False, False],\n",
       "        [False, False,  True,  True, False, False],\n",
       "        [False, False,  True,  True, False, False],\n",
       "        [False, False, False, False,  True,  True],\n",
       "        [False, False, False, False,  True,  True]])"
      ]
     },
     "execution_count": 288,
     "metadata": {},
     "output_type": "execute_result"
    }
   ],
   "source": [
    "pos_idx = class_idx[y.long()]\n",
    "pos_idx"
   ]
  },
  {
   "cell_type": "code",
   "execution_count": 298,
   "id": "05847ba3",
   "metadata": {
    "scrolled": true
   },
   "outputs": [
    {
     "data": {
      "text/plain": [
       "tensor([ -5.5981,  -2.8660,   2.8902, -13.9855,  -1.2607,  -9.8765])"
      ]
     },
     "execution_count": 298,
     "metadata": {},
     "output_type": "execute_result"
    }
   ],
   "source": [
    "def sim(x1: torch.Tensor, x2: torch.Tensor):\n",
    "    return torch.mm(x1, x2.t())\n",
    "f = lambda x: torch.exp(x / 0.5) \n",
    "refl_sim = f(sim(z1, z1))\n",
    "between_sim = f(sim(z1, z2))\n",
    "-torch.log((between_sim[pos_idx].reshape(6,2).sum(1) + refl_sim[pos_idx].reshape(6,2).sum(1) - between_sim.diag())\n",
    "        / (between_sim.sum(1) + refl_sim.sum(1) - refl_sim.diag()))"
   ]
  },
  {
   "cell_type": "code",
   "execution_count": 287,
   "id": "57e28611",
   "metadata": {},
   "outputs": [
    {
     "data": {
      "text/plain": [
       "tensor([[1.8295e-04, 4.1954e+01, 3.3903e+00, 1.1082e+03, 2.0807e-03, 2.9229e+01],\n",
       "        [2.6442e+00, 6.3618e+00, 2.4616e-04, 5.1466e-02, 4.2264e-01, 9.4640e-01],\n",
       "        [1.4557e-01, 4.4374e-01, 1.9548e+01, 9.7756e+00, 6.3064e+01, 1.8607e+00],\n",
       "        [2.6626e-02, 6.3476e-06, 3.3037e-02, 1.1059e+05, 8.9773e+00, 1.4270e+02],\n",
       "        [4.7336e+01, 1.1114e+02, 9.8590e-02, 1.1361e-03, 3.9462e-03, 8.0764e-02],\n",
       "        [1.4949e-02, 6.6584e+01, 2.7486e+00, 1.6442e+00, 9.3342e+02, 1.6787e+00]])"
      ]
     },
     "execution_count": 287,
     "metadata": {},
     "output_type": "execute_result"
    }
   ],
   "source": [
    "-torch.log((between_sim[pos_idx].reshape(6,2).sum(1) + refl_sim[pos_idx].reshape(6,2).sum(1) - refl_sim[pos_idx].reshape(6,2).diag())\n",
    "        / (between_sim.sum(1) + refl_sim.sum(1) - refl_sim.diag()))"
   ]
  },
  {
   "cell_type": "code",
   "execution_count": 290,
   "id": "f5848804",
   "metadata": {
    "scrolled": true
   },
   "outputs": [
    {
     "data": {
      "text/plain": [
       "tensor([4.1954e+01, 9.0060e+00, 2.9324e+01, 1.1059e+05, 8.4710e-02, 9.3510e+02])"
      ]
     },
     "execution_count": 290,
     "metadata": {},
     "output_type": "execute_result"
    }
   ],
   "source": [
    "between_sim[pos_idx].reshape(6,2).sum(1)"
   ]
  },
  {
   "cell_type": "code",
   "execution_count": 165,
   "id": "f13745bf",
   "metadata": {
    "scrolled": true
   },
   "outputs": [
    {
     "name": "stderr",
     "output_type": "stream",
     "text": [
      "/var/folders/_y/h0dptjbj5d94l_5zw2wf_zpm0000gn/T/ipykernel_8654/994309653.py:4: UserWarning: indexing with dtype torch.uint8 is now deprecated, please use a dtype torch.bool instead. (Triggered internally at  /Users/distiller/project/pytorch/aten/src/ATen/native/IndexingUtils.h:28.)\n",
      "  h1 = z1[c]\n",
      "/var/folders/_y/h0dptjbj5d94l_5zw2wf_zpm0000gn/T/ipykernel_8654/994309653.py:5: UserWarning: indexing with dtype torch.uint8 is now deprecated, please use a dtype torch.bool instead. (Triggered internally at  /Users/distiller/project/pytorch/aten/src/ATen/native/IndexingUtils.h:28.)\n",
      "  h2 = z2[c]\n"
     ]
    },
    {
     "ename": "RuntimeError",
     "evalue": "The size of tensor a (8) must match the size of tensor b (6) at non-singleton dimension 0",
     "output_type": "error",
     "traceback": [
      "\u001b[0;31m---------------------------------------------------------------------------\u001b[0m",
      "\u001b[0;31mRuntimeError\u001b[0m                              Traceback (most recent call last)",
      "Input \u001b[0;32mIn [165]\u001b[0m, in \u001b[0;36m<cell line: 3>\u001b[0;34m()\u001b[0m\n\u001b[1;32m      8\u001b[0m refl_sim2 \u001b[38;5;241m=\u001b[39m f(sim(z1, z1))\n\u001b[1;32m      9\u001b[0m between_sim2 \u001b[38;5;241m=\u001b[39m f(sim(z1, z2))\n\u001b[1;32m     10\u001b[0m loss \u001b[38;5;241m=\u001b[39m \u001b[38;5;241m-\u001b[39mtorch\u001b[38;5;241m.\u001b[39mlog(\n\u001b[0;32m---> 11\u001b[0m \u001b[43mtorch\u001b[49m\u001b[38;5;241;43m.\u001b[39;49m\u001b[43mcat\u001b[49m\u001b[43m(\u001b[49m\u001b[43m \u001b[49m\u001b[43m[\u001b[49m\u001b[43mbetween_sim1\u001b[49m\u001b[43m[\u001b[49m\u001b[43mnp\u001b[49m\u001b[38;5;241;43m.\u001b[39;49m\u001b[43mtriu_indices\u001b[49m\u001b[43m(\u001b[49m\u001b[38;5;241;43m2\u001b[39;49m\u001b[43m)\u001b[49m\u001b[43m]\u001b[49m\u001b[43m,\u001b[49m\u001b[43m \u001b[49m\u001b[43mrefl_sim1\u001b[49m\u001b[43m[\u001b[49m\u001b[43mnp\u001b[49m\u001b[38;5;241;43m.\u001b[39;49m\u001b[43mtriu_indices\u001b[49m\u001b[43m(\u001b[49m\u001b[38;5;241;43m2\u001b[39;49m\u001b[43m)\u001b[49m\u001b[43m]\u001b[49m\u001b[43m,\u001b[49m\u001b[43m \u001b[49m\u001b[43mrefl_sim1\u001b[49m\u001b[38;5;241;43m.\u001b[39;49m\u001b[43mdiag\u001b[49m\u001b[43m(\u001b[49m\u001b[43m)\u001b[49m\u001b[43m]\u001b[49m\u001b[43m \u001b[49m\u001b[43m)\u001b[49m\n\u001b[1;32m     12\u001b[0m \u001b[43m\u001b[49m\u001b[38;5;241;43m/\u001b[39;49m\u001b[43m \u001b[49m\u001b[43m(\u001b[49m\u001b[43mrefl_sim2\u001b[49m\u001b[38;5;241;43m.\u001b[39;49m\u001b[43msum\u001b[49m\u001b[43m(\u001b[49m\u001b[38;5;241;43m1\u001b[39;49m\u001b[43m)\u001b[49m\u001b[43m \u001b[49m\u001b[38;5;241;43m+\u001b[39;49m\u001b[43m \u001b[49m\u001b[43mbetween_sim2\u001b[49m\u001b[38;5;241;43m.\u001b[39;49m\u001b[43msum\u001b[49m\u001b[43m(\u001b[49m\u001b[38;5;241;43m1\u001b[39;49m\u001b[43m)\u001b[49m\u001b[43m \u001b[49m\u001b[38;5;241;43m-\u001b[39;49m\u001b[43m \u001b[49m\u001b[43mrefl_sim2\u001b[49m\u001b[38;5;241;43m.\u001b[39;49m\u001b[43mdiag\u001b[49m\u001b[43m(\u001b[49m\u001b[43m)\u001b[49m\u001b[43m)\u001b[49m)\n\u001b[1;32m     13\u001b[0m semi_l\u001b[38;5;241m.\u001b[39mappend(loss)\n",
      "\u001b[0;31mRuntimeError\u001b[0m: The size of tensor a (8) must match the size of tensor b (6) at non-singleton dimension 0"
     ]
    }
   ],
   "source": [
    "semi_l = []\n",
    "f = lambda x: torch.exp(x / 0.5) \n",
    "refl_sim = f(sim(z1, z1))\n",
    "between_sim = f(sim(z1, z2))\n",
    "loss = - torch.log( between_diag() # + between_sim[each_].sum(1) # + pos_pair()\n",
    "    / (refl_sim2.sum(1) + between_sim2.sum(1) - refl_sim2.diag()))\n",
    "    semi_l.append(loss)"
   ]
  },
  {
   "cell_type": "code",
   "execution_count": 166,
   "id": "2df192f5",
   "metadata": {},
   "outputs": [
    {
     "data": {
      "text/plain": [
       "tensor([5.2991e-01, 3.0833e+00, 5.6769e-01, 2.3461e+04, 1.8463e-04, 8.1735e+04,\n",
       "        2.3461e+04, 8.1735e+04])"
      ]
     },
     "execution_count": 166,
     "metadata": {},
     "output_type": "execute_result"
    }
   ],
   "source": [
    "refl_sim1\n",
    "between_sim1.sum(1)\n",
    "refl_sim2\n",
    "torch.cat([between_sim1[np.triu_indices(2)],refl_sim1[np.triu_indices(2)],refl_sim1.diag()])"
   ]
  },
  {
   "cell_type": "code",
   "execution_count": 130,
   "id": "1226bab3",
   "metadata": {},
   "outputs": [
    {
     "data": {
      "text/plain": [
       "tensor([[1.9568e-02, 1.8816e+03, 2.6218e-01, 3.2471e-01, 2.3488e+02, 1.5171e+01],\n",
       "        [0.0000e+00, 7.3345e-07, 2.0094e+01, 2.0977e-01, 1.3113e-03, 2.9180e-01],\n",
       "        [0.0000e+00, 0.0000e+00, 2.9055e+00, 2.4988e+00, 7.2854e-02, 5.5016e-01],\n",
       "        [0.0000e+00, 0.0000e+00, 0.0000e+00, 2.1741e-01, 1.1943e+00, 6.3216e-01],\n",
       "        [0.0000e+00, 0.0000e+00, 0.0000e+00, 0.0000e+00, 5.2991e-01, 3.0833e+00],\n",
       "        [0.0000e+00, 0.0000e+00, 0.0000e+00, 0.0000e+00, 0.0000e+00, 5.6769e-01]])"
      ]
     },
     "execution_count": 130,
     "metadata": {},
     "output_type": "execute_result"
    }
   ],
   "source": [
    "between_sim2.triu()"
   ]
  }
 ],
 "metadata": {
  "kernelspec": {
   "display_name": "Python 3 (ipykernel)",
   "language": "python",
   "name": "python3"
  },
  "language_info": {
   "codemirror_mode": {
    "name": "ipython",
    "version": 3
   },
   "file_extension": ".py",
   "mimetype": "text/x-python",
   "name": "python",
   "nbconvert_exporter": "python",
   "pygments_lexer": "ipython3",
   "version": "3.8.5"
  }
 },
 "nbformat": 4,
 "nbformat_minor": 5
}

{
 "cells": [
  {
   "cell_type": "code",
   "execution_count": 10,
   "id": "44a4fccc",
   "metadata": {},
   "outputs": [],
   "source": [
    "import torch\n",
    "import numpy as np"
   ]
  },
  {
   "cell_type": "code",
   "execution_count": 21,
   "id": "a37359c0",
   "metadata": {},
   "outputs": [
    {
     "ename": "TypeError",
     "evalue": "descriptor 'bool' for 'torch._C._TensorBase' objects doesn't apply to a 'list' object",
     "output_type": "error",
     "traceback": [
      "\u001b[0;31m---------------------------------------------------------------------------\u001b[0m",
      "\u001b[0;31mTypeError\u001b[0m                                 Traceback (most recent call last)",
      "Input \u001b[0;32mIn [21]\u001b[0m, in \u001b[0;36m<cell line: 3>\u001b[0;34m()\u001b[0m\n\u001b[1;32m      1\u001b[0m z1 \u001b[38;5;241m=\u001b[39m torch\u001b[38;5;241m.\u001b[39mTensor([\u001b[38;5;241m-\u001b[39m\u001b[38;5;241m1\u001b[39m, \u001b[38;5;241m-\u001b[39m\u001b[38;5;241m2\u001b[39m, \u001b[38;5;241m3\u001b[39m, \u001b[38;5;241m4\u001b[39m, \u001b[38;5;241m7\u001b[39m, \u001b[38;5;241m6\u001b[39m, \u001b[38;5;241m3\u001b[39m])\n\u001b[1;32m      2\u001b[0m z2 \u001b[38;5;241m=\u001b[39m torch\u001b[38;5;241m.\u001b[39mTensor([\u001b[38;5;241m5\u001b[39m, \u001b[38;5;241m11\u001b[39m, \u001b[38;5;241m-\u001b[39m\u001b[38;5;241m1\u001b[39m, \u001b[38;5;241m0\u001b[39m, \u001b[38;5;241m3\u001b[39m, \u001b[38;5;241m1\u001b[39m, \u001b[38;5;241m1\u001b[39m])\n\u001b[0;32m----> 3\u001b[0m class_idx \u001b[38;5;241m=\u001b[39m [\u001b[43mtorch\u001b[49m\u001b[38;5;241;43m.\u001b[39;49m\u001b[43mTensor\u001b[49m\u001b[38;5;241;43m.\u001b[39;49m\u001b[43mbool\u001b[49m\u001b[43m(\u001b[49m\u001b[43m[\u001b[49m\u001b[38;5;28;43;01mFalse\u001b[39;49;00m\u001b[43m,\u001b[49m\u001b[43m \u001b[49m\u001b[38;5;28;43;01mFalse\u001b[39;49;00m\u001b[43m,\u001b[49m\u001b[43m \u001b[49m\u001b[38;5;28;43;01mFalse\u001b[39;49;00m\u001b[43m,\u001b[49m\u001b[43m \u001b[49m\u001b[38;5;28;43;01mFalse\u001b[39;49;00m\u001b[43m,\u001b[49m\u001b[43m \u001b[49m\u001b[38;5;28;43;01mTrue\u001b[39;49;00m\u001b[43m,\u001b[49m\u001b[43m \u001b[49m\u001b[38;5;28;43;01mTrue\u001b[39;49;00m\u001b[43m]\u001b[49m\u001b[43m)\u001b[49m,\n\u001b[1;32m      4\u001b[0m              torch\u001b[38;5;241m.\u001b[39mTensor\u001b[38;5;241m.\u001b[39mbool([\u001b[38;5;28;01mFalse\u001b[39;00m, \u001b[38;5;28;01mFalse\u001b[39;00m, \u001b[38;5;28;01mTrue\u001b[39;00m, \u001b[38;5;28;01mTrue\u001b[39;00m, \u001b[38;5;28;01mFalse\u001b[39;00m, \u001b[38;5;28;01mFalse\u001b[39;00m]),\n\u001b[1;32m      5\u001b[0m              torch\u001b[38;5;241m.\u001b[39mTensor\u001b[38;5;241m.\u001b[39mbool([\u001b[38;5;28;01mTrue\u001b[39;00m, \u001b[38;5;28;01mTrue\u001b[39;00m, \u001b[38;5;28;01mFalse\u001b[39;00m, \u001b[38;5;28;01mFalse\u001b[39;00m, \u001b[38;5;28;01mFalse\u001b[39;00m, \u001b[38;5;28;01mFalse\u001b[39;00m])]\n",
      "\u001b[0;31mTypeError\u001b[0m: descriptor 'bool' for 'torch._C._TensorBase' objects doesn't apply to a 'list' object"
     ]
    }
   ],
   "source": [
    "z1 = torch.Tensor([-1, -2, 3, 4, 7, 6, 3])\n",
    "z2 = torch.Tensor([5, 11, -1, 0, 3, 1, 1])\n",
    "class_idx = [torch.Tensor([False, False, False, False, True, True]),\n",
    "             torch.Tensor([False, False, True, True, False, False]),\n",
    "             torch.Tensor([True, True, False, False, False, False])]"
   ]
  },
  {
   "cell_type": "code",
   "execution_count": 12,
   "id": "18a1b99e",
   "metadata": {},
   "outputs": [],
   "source": [
    "def sim(x1: torch.Tensor, x2: torch.Tensor):\n",
    "    z1 = F.normalize(x1)\n",
    "    z2 = F.normalize(x2)\n",
    "    return torch.mm(z1, z2.t())"
   ]
  },
  {
   "cell_type": "code",
   "execution_count": 20,
   "id": "f6e54322",
   "metadata": {},
   "outputs": [
    {
     "ename": "IndexError",
     "evalue": "tensors used as indices must be long, byte or bool tensors",
     "output_type": "error",
     "traceback": [
      "\u001b[0;31m---------------------------------------------------------------------------\u001b[0m",
      "\u001b[0;31mIndexError\u001b[0m                                Traceback (most recent call last)",
      "Input \u001b[0;32mIn [20]\u001b[0m, in \u001b[0;36m<cell line: 1>\u001b[0;34m()\u001b[0m\n\u001b[0;32m----> 1\u001b[0m \u001b[43mz1\u001b[49m\u001b[43m[\u001b[49m\u001b[43mclass_idx\u001b[49m\u001b[43m[\u001b[49m\u001b[38;5;241;43m0\u001b[39;49m\u001b[43m]\u001b[49m\u001b[43m]\u001b[49m\n",
      "\u001b[0;31mIndexError\u001b[0m: tensors used as indices must be long, byte or bool tensors"
     ]
    }
   ],
   "source": [
    "z1[class_idx[0]]"
   ]
  },
  {
   "cell_type": "code",
   "execution_count": 13,
   "id": "bbe15c63",
   "metadata": {},
   "outputs": [
    {
     "ename": "IndexError",
     "evalue": "tensors used as indices must be long, byte or bool tensors",
     "output_type": "error",
     "traceback": [
      "\u001b[0;31m---------------------------------------------------------------------------\u001b[0m",
      "\u001b[0;31mIndexError\u001b[0m                                Traceback (most recent call last)",
      "Input \u001b[0;32mIn [13]\u001b[0m, in \u001b[0;36m<cell line: 3>\u001b[0;34m()\u001b[0m\n\u001b[1;32m      2\u001b[0m f \u001b[38;5;241m=\u001b[39m \u001b[38;5;28;01mlambda\u001b[39;00m x: torch\u001b[38;5;241m.\u001b[39mexp(x \u001b[38;5;241m/\u001b[39m \u001b[38;5;241m0.5\u001b[39m) \n\u001b[1;32m      3\u001b[0m \u001b[38;5;28;01mfor\u001b[39;00m c \u001b[38;5;129;01min\u001b[39;00m class_idx:\n\u001b[0;32m----> 4\u001b[0m         h1 \u001b[38;5;241m=\u001b[39m \u001b[43mz1\u001b[49m\u001b[43m[\u001b[49m\u001b[43mc\u001b[49m\u001b[43m]\u001b[49m\n\u001b[1;32m      5\u001b[0m         h2 \u001b[38;5;241m=\u001b[39m z2[c]\n\u001b[1;32m      6\u001b[0m         refl_sim1 \u001b[38;5;241m=\u001b[39m f(sim(h1, h1))\n",
      "\u001b[0;31mIndexError\u001b[0m: tensors used as indices must be long, byte or bool tensors"
     ]
    }
   ],
   "source": [
    "semi_l = []\n",
    "f = lambda x: torch.exp(x / 0.5) \n",
    "for c in class_idx:\n",
    "        h1 = z1[c]\n",
    "        h2 = z2[c]\n",
    "        refl_sim1 = f(sim(h1, h1))\n",
    "        between_sim1 = f(sim(h1, h2))\n",
    "        refl_sim2 = f(sim(z1, z1))\n",
    "        between_sim2 = f(sim(z1, z2))\n",
    "        loss = -torch.log(\n",
    "        ( between_sim1.sum(1) + refl_sim1.sum(1) - refl_sim1.diag() )\n",
    "        / (refl_sim2.sum(1) + between_sim2.sum(1) - refl_sim2.diag()))\n",
    "        semi_l = torch.append(loss)"
   ]
  },
  {
   "cell_type": "code",
   "execution_count": null,
   "id": "76140ba0",
   "metadata": {},
   "outputs": [],
   "source": []
  }
 ],
 "metadata": {
  "kernelspec": {
   "display_name": "Python 3 (ipykernel)",
   "language": "python",
   "name": "python3"
  },
  "language_info": {
   "codemirror_mode": {
    "name": "ipython",
    "version": 3
   },
   "file_extension": ".py",
   "mimetype": "text/x-python",
   "name": "python",
   "nbconvert_exporter": "python",
   "pygments_lexer": "ipython3",
   "version": "3.8.5"
  }
 },
 "nbformat": 4,
 "nbformat_minor": 5
}
